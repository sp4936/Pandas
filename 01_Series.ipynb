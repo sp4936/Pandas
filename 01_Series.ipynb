{
 "cells": [
  {
   "cell_type": "code",
   "execution_count": 1,
   "id": "7cff87a5",
   "metadata": {},
   "outputs": [],
   "source": [
    "import pandas as pd"
   ]
  },
  {
   "cell_type": "code",
   "execution_count": 2,
   "id": "beed67b6",
   "metadata": {},
   "outputs": [],
   "source": [
    "x = [10,20,30,40,50]"
   ]
  },
  {
   "cell_type": "code",
   "execution_count": 3,
   "id": "c1f0087c",
   "metadata": {},
   "outputs": [],
   "source": [
    "df = pd.Series(x)"
   ]
  },
  {
   "cell_type": "code",
   "execution_count": 4,
   "id": "64860dd5",
   "metadata": {},
   "outputs": [
    {
     "data": {
      "text/plain": [
       "0    10\n",
       "1    20\n",
       "2    30\n",
       "3    40\n",
       "4    50\n",
       "dtype: int64"
      ]
     },
     "execution_count": 4,
     "metadata": {},
     "output_type": "execute_result"
    }
   ],
   "source": [
    "df"
   ]
  },
  {
   "cell_type": "code",
   "execution_count": 15,
   "id": "e20c76c4",
   "metadata": {},
   "outputs": [],
   "source": [
    "df = pd.Series(x,index=['a','b','c','d','e'], dtype = 'int64')"
   ]
  },
  {
   "cell_type": "code",
   "execution_count": 16,
   "id": "78b87d53",
   "metadata": {},
   "outputs": [
    {
     "data": {
      "text/plain": [
       "a    10\n",
       "b    20\n",
       "c    30\n",
       "d    40\n",
       "e    50\n",
       "dtype: int64"
      ]
     },
     "execution_count": 16,
     "metadata": {},
     "output_type": "execute_result"
    }
   ],
   "source": [
    "df"
   ]
  },
  {
   "cell_type": "code",
   "execution_count": 17,
   "id": "4c23b4a4",
   "metadata": {},
   "outputs": [],
   "source": [
    "dict = {\n",
    "    'name':('python','c++','c'),\n",
    "    'score' : (10,20,30)\n",
    "}"
   ]
  },
  {
   "cell_type": "code",
   "execution_count": 18,
   "id": "c473886b",
   "metadata": {},
   "outputs": [],
   "source": [
    "df = pd.Series(dict)"
   ]
  },
  {
   "cell_type": "code",
   "execution_count": 19,
   "id": "8550d793",
   "metadata": {},
   "outputs": [
    {
     "name": "stdout",
     "output_type": "stream",
     "text": [
      "name     (python, c++, c)\n",
      "score        (10, 20, 30)\n",
      "dtype: object\n"
     ]
    }
   ],
   "source": [
    "print(df)"
   ]
  },
  {
   "cell_type": "code",
   "execution_count": null,
   "id": "f0c527fc",
   "metadata": {},
   "outputs": [],
   "source": []
  }
 ],
 "metadata": {
  "kernelspec": {
   "display_name": "Python 3 (ipykernel)",
   "language": "python",
   "name": "python3"
  },
  "language_info": {
   "codemirror_mode": {
    "name": "ipython",
    "version": 3
   },
   "file_extension": ".py",
   "mimetype": "text/x-python",
   "name": "python",
   "nbconvert_exporter": "python",
   "pygments_lexer": "ipython3",
   "version": "3.9.13"
  }
 },
 "nbformat": 4,
 "nbformat_minor": 5
}
